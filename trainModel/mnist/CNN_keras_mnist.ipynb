{
  "nbformat": 4,
  "nbformat_minor": 0,
  "metadata": {
    "colab": {
      "name": "CNN_keras_mnist.ipynb",
      "provenance": [],
      "collapsed_sections": []
    },
    "kernelspec": {
      "name": "python3",
      "display_name": "Python 3"
    },
    "accelerator": "GPU"
  },
  "cells": [
    {
      "cell_type": "code",
      "metadata": {
        "id": "D7U02zt_c8Ft"
      },
      "source": [
        "#importing the necessary modules\n",
        "from keras.datasets import mnist\n",
        "import numpy as np"
      ],
      "execution_count": null,
      "outputs": []
    },
    {
      "cell_type": "code",
      "metadata": {
        "id": "ejfQluMac8Fw",
        "colab": {
          "base_uri": "https://localhost:8080/"
        },
        "outputId": "8b20ff11-64a4-4ee2-c520-4c8dd57586b9"
      },
      "source": [
        "#loading data\n",
        "(xtrain,ytrain),(xtest,ytest)=mnist.load_data()"
      ],
      "execution_count": null,
      "outputs": [
        {
          "output_type": "stream",
          "name": "stdout",
          "text": [
            "Downloading data from https://storage.googleapis.com/tensorflow/tf-keras-datasets/mnist.npz\n",
            "11493376/11490434 [==============================] - 0s 0us/step\n",
            "11501568/11490434 [==============================] - 0s 0us/step\n"
          ]
        }
      ]
    },
    {
      "cell_type": "code",
      "metadata": {
        "id": "Nw6B0K2Jc8Fz",
        "colab": {
          "base_uri": "https://localhost:8080/"
        },
        "outputId": "d712f3e1-235b-4b67-fa6d-2e990f117f3d"
      },
      "source": [
        "#reshaping data as needed by the model\n",
        "xtrain=np.reshape(xtrain,(-1,28,28,1))\n",
        "xtest=np.reshape(xtest,(-1,28,28,1))\n",
        "xtrain.shape,xtest.shape,ytrain.shape,ytest.shape"
      ],
      "execution_count": null,
      "outputs": [
        {
          "output_type": "execute_result",
          "data": {
            "text/plain": [
              "((60000, 28, 28, 1), (10000, 28, 28, 1), (60000,), (10000,))"
            ]
          },
          "metadata": {},
          "execution_count": 3
        }
      ]
    },
    {
      "cell_type": "code",
      "metadata": {
        "id": "O_JncxhQARaI"
      },
      "source": [
        "#normalising\n",
        "xtrain=xtrain/255\n",
        "xtest=xtest/255"
      ],
      "execution_count": null,
      "outputs": []
    },
    {
      "cell_type": "code",
      "metadata": {
        "id": "lnvVkc6ec8F3"
      },
      "source": [
        "#implementing one hot encoding\n",
        "from keras.utils.np_utils import to_categorical\n",
        "y_train = to_categorical(ytrain, num_classes=10)\n",
        "y_test = to_categorical(ytest, num_classes=10)"
      ],
      "execution_count": null,
      "outputs": []
    },
    {
      "cell_type": "code",
      "metadata": {
        "id": "Pkvwf0pLc8F5"
      },
      "source": [
        "#importing the model\n",
        "from keras.models import Sequential"
      ],
      "execution_count": null,
      "outputs": []
    },
    {
      "cell_type": "code",
      "metadata": {
        "id": "Z-ltHdtbc8F7"
      },
      "source": [
        "#creating model object\n",
        "model=Sequential()"
      ],
      "execution_count": null,
      "outputs": []
    },
    {
      "cell_type": "code",
      "metadata": {
        "id": "9HwMYc_fc8F9"
      },
      "source": [
        "#importing layers\n",
        "from keras.layers import Conv2D,MaxPooling2D,Flatten,Dense,Dropout"
      ],
      "execution_count": null,
      "outputs": []
    },
    {
      "cell_type": "code",
      "metadata": {
        "id": "W6sDtwOec8GB"
      },
      "source": [
        "#adding layers and forming the model\n",
        "model.add(Conv2D(32,kernel_size=5,strides=1,padding=\"Same\",activation=\"relu\",input_shape=(28,28,1)))\n",
        "model.add(MaxPooling2D(padding=\"same\"))\n",
        "\n",
        "model.add(Conv2D(64,kernel_size=5,strides=1,padding=\"same\",activation=\"relu\"))\n",
        "model.add(MaxPooling2D(padding=\"same\"))\n",
        "\n",
        "model.add(Flatten())\n",
        "\n",
        "model.add(Dense(1024,activation=\"relu\"))\n",
        "model.add(Dropout(0.2))\n",
        "model.add(Dense(10,activation=\"sigmoid\"))"
      ],
      "execution_count": null,
      "outputs": []
    },
    {
      "cell_type": "code",
      "metadata": {
        "id": "TUQetKGHc8GE"
      },
      "source": [
        "#compiling\n",
        "model.compile(optimizer=\"adam\",loss=\"categorical_crossentropy\",metrics=[\"accuracy\"])"
      ],
      "execution_count": null,
      "outputs": []
    },
    {
      "cell_type": "code",
      "metadata": {
        "id": "KYU-n7F9c8GH",
        "colab": {
          "base_uri": "https://localhost:8080/"
        },
        "outputId": "690d2ed1-ef3a-4191-8505-fbf6bb233825"
      },
      "source": [
        "#training the model\n",
        "model.fit(xtrain,y_train,batch_size=100,epochs=5,validation_data=(xtest,y_test))"
      ],
      "execution_count": null,
      "outputs": [
        {
          "output_type": "stream",
          "name": "stdout",
          "text": [
            "Epoch 1/5\n",
            "600/600 [==============================] - 40s 14ms/step - loss: 0.1248 - accuracy: 0.9619 - val_loss: 0.0403 - val_accuracy: 0.9867\n",
            "Epoch 2/5\n",
            "600/600 [==============================] - 8s 14ms/step - loss: 0.0387 - accuracy: 0.9876 - val_loss: 0.0253 - val_accuracy: 0.9913\n",
            "Epoch 3/5\n",
            "600/600 [==============================] - 8s 13ms/step - loss: 0.0257 - accuracy: 0.9922 - val_loss: 0.0281 - val_accuracy: 0.9907\n",
            "Epoch 4/5\n",
            "600/600 [==============================] - 8s 14ms/step - loss: 0.0192 - accuracy: 0.9935 - val_loss: 0.0294 - val_accuracy: 0.9900\n",
            "Epoch 5/5\n",
            "600/600 [==============================] - 8s 14ms/step - loss: 0.0157 - accuracy: 0.9949 - val_loss: 0.0224 - val_accuracy: 0.9937\n"
          ]
        },
        {
          "output_type": "execute_result",
          "data": {
            "text/plain": [
              "<keras.callbacks.History at 0x7ff10038b5d0>"
            ]
          },
          "metadata": {},
          "execution_count": 11
        }
      ]
    },
    {
      "cell_type": "code",
      "metadata": {
        "id": "X9rt0HiFc8GK",
        "colab": {
          "base_uri": "https://localhost:8080/"
        },
        "outputId": "c12471c8-1dce-4719-c8b5-2f6fb6f8a432"
      },
      "source": [
        "#model train and test scores\n",
        "model.evaluate(xtrain,y_train),model.evaluate(xtest,y_test)"
      ],
      "execution_count": null,
      "outputs": [
        {
          "output_type": "stream",
          "name": "stdout",
          "text": [
            "1875/1875 [==============================] - 9s 5ms/step - loss: 0.0099 - accuracy: 0.9970\n",
            "313/313 [==============================] - 2s 5ms/step - loss: 0.0224 - accuracy: 0.9937\n"
          ]
        },
        {
          "output_type": "execute_result",
          "data": {
            "text/plain": [
              "([0.009929927997291088, 0.9969666600227356],\n",
              " [0.02243826538324356, 0.9937000274658203])"
            ]
          },
          "metadata": {},
          "execution_count": 12
        }
      ]
    },
    {
      "cell_type": "code",
      "metadata": {
        "id": "5LnOIhdE7kao"
      },
      "source": [
        "model.save(\"model-27.h5\")"
      ],
      "execution_count": null,
      "outputs": []
    }
  ]
}